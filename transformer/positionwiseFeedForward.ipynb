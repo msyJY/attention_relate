{
 "cells": [
  {
   "cell_type": "markdown",
   "id": "43b3b4e1",
   "metadata": {},
   "source": [
    "# 实现前馈全连接层"
   ]
  },
  {
   "cell_type": "code",
   "execution_count": 1,
   "id": "e67eb740",
   "metadata": {},
   "outputs": [],
   "source": [
    "import torch.nn as nn\n",
    "import torch.nn.functional as F"
   ]
  },
  {
   "cell_type": "code",
   "execution_count": 5,
   "id": "8b666c34",
   "metadata": {},
   "outputs": [],
   "source": [
    "# FFN(x) = max(0, xW1 + b1)W2 + b2 relu 实现其实就是那个 max...\n",
    "class PositionwiseFeedForward(nn.Module):\n",
    "    def __init__(self, embed_dim, encode_dim, dropout=0.1):\n",
    "        \"\"\"\n",
    "        embed_dim: 第一层线性层的输入维度,同样是第二个线性层的输出维度\n",
    "        encode_dim:第二个线性层的输入维度，第一个线性层的输出维度\n",
    "        \"\"\"\n",
    "        super(PositionwiseFeedForward, self).__init()\n",
    "        self.w1 = nn.Linear(embed_dim, encode_dim)\n",
    "        self.w2 = nn.Linear(encode_dim, embed_dim)\n",
    "        self.dropout = nn.Dropout(dropout)\n",
    "    \n",
    "    def foward(self, x):\n",
    "        return self.w2(self.dropout(F.relu(self.w1(x))))"
   ]
  },
  {
   "cell_type": "code",
   "execution_count": null,
   "id": "80679da7",
   "metadata": {},
   "outputs": [],
   "source": []
  },
  {
   "cell_type": "code",
   "execution_count": null,
   "id": "51c82abb",
   "metadata": {},
   "outputs": [],
   "source": []
  },
  {
   "cell_type": "code",
   "execution_count": null,
   "id": "46d092c2",
   "metadata": {},
   "outputs": [],
   "source": []
  },
  {
   "cell_type": "code",
   "execution_count": null,
   "id": "e2d3ba84",
   "metadata": {},
   "outputs": [],
   "source": []
  },
  {
   "cell_type": "code",
   "execution_count": null,
   "id": "5326b550",
   "metadata": {},
   "outputs": [],
   "source": []
  },
  {
   "cell_type": "code",
   "execution_count": null,
   "id": "62077dc4",
   "metadata": {},
   "outputs": [],
   "source": []
  },
  {
   "cell_type": "code",
   "execution_count": null,
   "id": "199eb6f5",
   "metadata": {},
   "outputs": [],
   "source": []
  },
  {
   "cell_type": "code",
   "execution_count": null,
   "id": "078ca880",
   "metadata": {},
   "outputs": [],
   "source": []
  },
  {
   "cell_type": "code",
   "execution_count": null,
   "id": "cc73672e",
   "metadata": {},
   "outputs": [],
   "source": []
  },
  {
   "cell_type": "code",
   "execution_count": null,
   "id": "e49cf358",
   "metadata": {},
   "outputs": [],
   "source": []
  },
  {
   "cell_type": "code",
   "execution_count": null,
   "id": "4a390548",
   "metadata": {},
   "outputs": [],
   "source": []
  },
  {
   "cell_type": "code",
   "execution_count": null,
   "id": "c6a95271",
   "metadata": {},
   "outputs": [],
   "source": []
  }
 ],
 "metadata": {
  "kernelspec": {
   "display_name": "nlp_test",
   "language": "python",
   "name": "nlp_test"
  },
  "language_info": {
   "codemirror_mode": {
    "name": "ipython",
    "version": 3
   },
   "file_extension": ".py",
   "mimetype": "text/x-python",
   "name": "python",
   "nbconvert_exporter": "python",
   "pygments_lexer": "ipython3",
   "version": "3.9.18"
  }
 },
 "nbformat": 4,
 "nbformat_minor": 5
}
