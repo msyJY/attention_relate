{
 "cells": [
  {
   "cell_type": "markdown",
   "id": "1ddfe952",
   "metadata": {},
   "source": [
    "# 模型所用的工具包"
   ]
  },
  {
   "cell_type": "code",
   "execution_count": 3,
   "id": "3a967c95",
   "metadata": {},
   "outputs": [],
   "source": [
    "import copy\n",
    "import torch\n",
    "import torch.nn as nn\n",
    "import time\n",
    "from torch.autograd import Variable\n",
    "import matplotlib.pyplot as plt\n",
    "import numpy as np"
   ]
  },
  {
   "cell_type": "markdown",
   "id": "c8cc0793",
   "metadata": {},
   "source": [
    "## Encoder/Decoder block实现"
   ]
  },
  {
   "cell_type": "code",
   "execution_count": 4,
   "id": "2f417691",
   "metadata": {},
   "outputs": [],
   "source": [
    "# https://zhuanlan.zhihu.com/p/75206669\n",
    "# https://blog.csdn.net/qq_38863413/article/details/104118055\n",
    "def clones(module, N):\n",
    "    \"\"\"\n",
    "    module：输入模型(也就是 encoder block)\n",
    "    N： 重复次数(block 个数)\n",
    "    \"\"\"\n",
    "    return nn.ModuleList([copy.deepcopy(module) for _ in range(N)])"
   ]
  },
  {
   "cell_type": "markdown",
   "id": "92bfbc1f",
   "metadata": {},
   "source": [
    "## 归一化Norm层"
   ]
  },
  {
   "cell_type": "code",
   "execution_count": 5,
   "id": "4927f310",
   "metadata": {},
   "outputs": [],
   "source": [
    "# https://zhuanlan.zhihu.com/p/368808794\n",
    "# https://blog.csdn.net/xinjieyuan/article/details/109587913\n",
    "class LayerNorm(nn.Module):\n",
    "    def __init__(self, feature_size, eps=1e-6):\n",
    "        \"\"\"\n",
    "        归一化层，使用的归一化方法并不唯一\n",
    "        feature_size: 输入的特征的尺寸\n",
    "        eps：一个足够小的数防止分母为 0 的\n",
    "        \"\"\"\n",
    "        super(LayerNorm, self).__init__()\n",
    "        '''\n",
    "        这里的 a2 和 b2 可以类比成 weight 和 bais，nn.Parameter的处理可以理解为让该参数注册进网络实现可优化的目的，注意维度要可以相乘\n",
    "        '''\n",
    "        self.a_2 = nn.Parameter(torch.ones(feature_size))\n",
    "        self.b_2 = nn.Parameter(torch.zeros(feature_size))\n",
    "        self.eps = eps\n",
    "\n",
    "    def forward(self, x):\n",
    "        mean = x.mean(-1, keepdim=True)\n",
    "        std = x.std(-1, keepdim=True)\n",
    "        return self.a_2 * (x - mean) / (std + self.eps) + self.b_2"
   ]
  },
  {
   "cell_type": "markdown",
   "id": "9f37e57e",
   "metadata": {},
   "source": [
    "## Add & Norm 实现"
   ]
  },
  {
   "cell_type": "code",
   "execution_count": 6,
   "id": "9df09ae3",
   "metadata": {},
   "outputs": [],
   "source": [
    "# https://zhuanlan.zhihu.com/p/651641664 dropout 解释\n",
    "class SublayerConnection(nn.Module):\n",
    "    def __init__(self, feature_size, dropout):\n",
    "        \"\"\"\n",
    "        残差连接模块，对应论文的 Add & Norm\n",
    "        :param feature_size: (int)模型尺寸\n",
    "        :param dropout: (int)丢弃机制\n",
    "        \"\"\"\n",
    "        super(SublayerConnection, self).__init__()\n",
    "        self.norm = LayerNorm(feature_size)\n",
    "        self.dropout = nn.Dropout(dropout)\n",
    "\n",
    "    def forward(self, x, sublayer_func):\n",
    "        \"\"\"\n",
    "        前向传播，将输入与正则化的输出相加； 先对输入标准化处理后再代入子层处理函数，然后dropout后再得到残差连接结果\n",
    "        :param x: 上层或者子层的输入\n",
    "        :param sublayer_func: 该子层中的子层函数\n",
    "        :return: relu残差输出\n",
    "        \"\"\"\n",
    "        return x + self.dropout(sublayer_func(self.norm(x)))"
   ]
  },
  {
   "cell_type": "code",
   "execution_count": 7,
   "id": "1a145cbf",
   "metadata": {},
   "outputs": [],
   "source": [
    "# 部分参数还未搞懂\n",
    "def run_epoch(data_iter, model, loss_compute):\n",
    "    \"\"\"\n",
    "    通用的训练和评分函数来跟踪损失。传入一个通用的损失计算函数处理参数更新。\n",
    "    :param data_iter: 迭代数据\n",
    "    :param model: 输入的模型\n",
    "    :param loss_compute:损失计算\n",
    "    :return:\n",
    "    \"\"\"\n",
    "    start = time.time()\n",
    "    total_tokens = 0\n",
    "    total_loss = 0\n",
    "    tokens = 0\n",
    "    for i, batch in enumerate(data_iter):\n",
    "        model_out = model.forward(batch.input_embed, batch.target_embed, batch.input_mask, batch.target_mask)\n",
    "        loss = loss_compute(model_out, batch.target_y, batch.ntokens)\n",
    "        total_loss += loss\n",
    "        total_tokens += batch.ntokens\n",
    "        tokens += batch.ntokens\n",
    "        # 判断是为了每 50次输出一次结果\n",
    "        if i % 50 == 1:\n",
    "            elapsed = time.time() - start\n",
    "            print(\"Epoch Step: %d Loss: %f Tokens per Sec: %f\" % (i, loss / batch.ntokens, tokens / elapsed))\n",
    "            start = time.time()\n",
    "            tokens = 0\n",
    "    return total_loss / total_tokens"
   ]
  },
  {
   "cell_type": "markdown",
   "id": "551ac9ba",
   "metadata": {},
   "source": [
    "## 学习率更新(动态更新学习率)"
   ]
  },
  {
   "cell_type": "code",
   "execution_count": 8,
   "id": "834e2c9d",
   "metadata": {},
   "outputs": [],
   "source": [
    "# https://zhuanlan.zhihu.com/p/60821628\n",
    "# https://zhuanlan.zhihu.com/p/466992867\n",
    "class NoamOpt:\n",
    "    def __init__(self, model_size, factor, warmup, optimizer):\n",
    "        \"\"\"\n",
    "        优化器：论文用的是adam，这个类主要用于针对不同模型尺寸动态更新学习率\n",
    "        transformer 中的学习率更新公式叫 noam\n",
    "        :param model_size:\n",
    "        :param factor:\n",
    "        :param warmup: 热身步数，比照参考链接中的图指的是直线部分\n",
    "        :param optimizer:优化器\n",
    "        \"\"\"\n",
    "        self.optimizer = optimizer\n",
    "        self._step = 0\n",
    "        self.warmup = warmup\n",
    "        self.factor = factor\n",
    "        self.model_size = model_size\n",
    "        self._rate = 0\n",
    "\n",
    "    def step(self):\n",
    "        # 更新参数和学习率\n",
    "        self._step += 1\n",
    "        rate = self.rate()\n",
    "        for p in self.optimizer.param_groups:\n",
    "            p['lr'] = rate\n",
    "        self._rate = rate\n",
    "        # 更新优化器参数(更新完优化器后再更新学习率)\n",
    "        self.optimizer.step()\n",
    "\n",
    "    def rate(self, step=None):\n",
    "        # 执行上面更新的学习率\n",
    "        if step is None:\n",
    "            step = self._step\n",
    "        return self.factor * (self.model_size ** (-0.5) * min(step ** (-0.5), step * self.warmup ** (-1.5)))"
   ]
  },
  {
   "cell_type": "code",
   "execution_count": 9,
   "id": "f5fb90b5",
   "metadata": {},
   "outputs": [],
   "source": [
    "def get_std_opt(model):\n",
    "    \"\"\"\n",
    "    优化器调用示例：\n",
    "    :param model:\n",
    "    :return:\n",
    "    \"\"\"\n",
    "    return NoamOpt(model.src_embed[0].d_model, 2, 4000,\n",
    "                   torch.optim.Adam(model.parameters(), lr=0, betas=(0.9, 0.98), eps=1e-9))"
   ]
  },
  {
   "cell_type": "markdown",
   "id": "6bfadcc6",
   "metadata": {},
   "source": [
    "## 标签平滑"
   ]
  },
  {
   "cell_type": "code",
   "execution_count": 10,
   "id": "3bf9a6bc",
   "metadata": {},
   "outputs": [],
   "source": [
    "# 没看懂。。\n",
    "class LabelSmoothing(nn.Module):\n",
    "    def __init__(self, size, padding_idx, smoothing=0.0):\n",
    "        \"\"\"\n",
    "        标签平滑:论文正则化的一种方式，另外就是使用dropout了\n",
    "        在训练期间，使用values的标签平滑，使用 KL div 损失实现标签平滑，防止模型过度自信预测\n",
    "        论文没有使用 one-hot 目标分布，而是创建了一个分布，该分布具有confidence正确的单词和分布在整个词汇表中的其余smoothing。\n",
    "        :param size: (int) 模型尺寸，对应词向量长度\n",
    "        :param padding_idx: (int) 填充步幅\n",
    "        :param smoothing:\n",
    "        \"\"\"\n",
    "        super(LabelSmoothing, self).__init__()\n",
    "        self.criterion = nn.KLDivLoss(size_average=False)\n",
    "        self.padding_idx = padding_idx\n",
    "        self.confidence = 1.0 - smoothing\n",
    "        self.smoothing = smoothing\n",
    "        self.size = size\n",
    "        self.true_dist = None\n",
    "\n",
    "    def forward(self, x, target):\n",
    "        assert x.size(1) == self.size\n",
    "        true_dist = x.data.clone()\n",
    "        true_dist.fill_(self.smoothing / (self.size - 2))\n",
    "        true_dist.scatter_(1, target.data.unsqueeze(1).long(), self.confidence)\n",
    "        true_dist[:, self.padding_idx] = 0\n",
    "        mask = torch.nonzero(target.data == self.padding_idx)\n",
    "        if mask.dim() > 0:\n",
    "            true_dist.index_fill_(0, mask.squeeze(), 0.0)\n",
    "        self.true_dist = true_dist\n",
    "        return self.criterion(x, Variable(true_dist, requires_grad=False))"
   ]
  },
  {
   "cell_type": "markdown",
   "id": "92f0e3cf",
   "metadata": {},
   "source": [
    "## 测试"
   ]
  },
  {
   "cell_type": "code",
   "execution_count": 11,
   "id": "4d8d76e9",
   "metadata": {},
   "outputs": [
    {
     "data": {
      "image/png": "[encoded data removed]",
      "text/plain": [
       "<Figure size 640x480 with 1 Axes>"
      ]
     },
     "metadata": {},
     "output_type": "display_data"
    }
   ],
   "source": [
    "# 针对不同模型大小和优化超参数的曲线示例。\n",
    "# 设置三个不同的模型尺寸，最大学习率上升步阈值(model_size, factor, warmup, optimizer):\n",
    "opts = [NoamOpt(512, 1, 4000, None),\n",
    "        NoamOpt(512, 1, 8000, None),\n",
    "        NoamOpt(256, 1, 4000, None)]\n",
    "plt.plot(np.arange(1, 20000), [[opt.rate(i) for opt in opts] for i in range(1, 20000)])\n",
    "plt.legend([\"512:4000\", \"512:8000\", \"256:4000\"])\n",
    "plt.show()"
   ]
  },
  {
   "cell_type": "code",
   "execution_count": 13,
   "id": "17956356",
   "metadata": {},
   "outputs": [
    {
     "name": "stdout",
     "output_type": "stream",
     "text": [
      "tensor([[   -inf, -1.6094, -0.3567, -2.3026,    -inf],\n",
      "        [   -inf, -1.6094, -0.3567, -2.3026,    -inf],\n",
      "        [   -inf, -1.6094, -0.3567, -2.3026,    -inf]])\n",
      "tensor([[0.0000, 0.1333, 0.6000, 0.1333, 0.1333],\n",
      "        [0.0000, 0.6000, 0.1333, 0.1333, 0.1333],\n",
      "        [0.0000, 0.0000, 0.0000, 0.0000, 0.0000]])\n"
     ]
    },
    {
     "name": "stderr",
     "output_type": "stream",
     "text": [
      "/Users/gedun/anaconda3/envs/nlp_test/lib/python3.9/site-packages/torch/nn/_reduction.py:42: UserWarning: size_average and reduce args will be deprecated, please use reduction='sum' instead.\n",
      "  warnings.warn(warning.format(ret))\n"
     ]
    },
    {
     "data": {
      "image/png": "[encoded data removed]",
      "text/plain": [
       "<Figure size 640x480 with 1 Axes>"
      ]
     },
     "metadata": {},
     "output_type": "display_data"
    },
    {
     "name": "stdout",
     "output_type": "stream",
     "text": [
      "predict: tensor([[0.0000, 0.2500, 0.2500, 0.2500, 0.2500]])\n",
      "predict: tensor([[0.0000, 0.4000, 0.2000, 0.2000, 0.2000]])\n",
      "predict: tensor([[0.0000, 0.5000, 0.1667, 0.1667, 0.1667]])\n",
      "predict: tensor([[0.0000, 0.5714, 0.1429, 0.1429, 0.1429]])\n",
      "predict: tensor([[0.0000, 0.6250, 0.1250, 0.1250, 0.1250]])\n",
      "predict: tensor([[0.0000, 0.6667, 0.1111, 0.1111, 0.1111]])\n",
      "predict: tensor([[0.0000, 0.7000, 0.1000, 0.1000, 0.1000]])\n",
      "predict: tensor([[0.0000, 0.7273, 0.0909, 0.0909, 0.0909]])\n",
      "predict: tensor([[0.0000, 0.7500, 0.0833, 0.0833, 0.0833]])\n",
      "predict: tensor([[0.0000, 0.7692, 0.0769, 0.0769, 0.0769]])\n",
      "predict: tensor([[0.0000, 0.7857, 0.0714, 0.0714, 0.0714]])\n",
      "predict: tensor([[0.0000, 0.8000, 0.0667, 0.0667, 0.0667]])\n",
      "predict: tensor([[0.0000, 0.8125, 0.0625, 0.0625, 0.0625]])\n",
      "predict: tensor([[0.0000, 0.8235, 0.0588, 0.0588, 0.0588]])\n",
      "predict: tensor([[0.0000, 0.8333, 0.0556, 0.0556, 0.0556]])\n",
      "predict: tensor([[0.0000, 0.8421, 0.0526, 0.0526, 0.0526]])\n",
      "predict: tensor([[0.0000, 0.8500, 0.0500, 0.0500, 0.0500]])\n",
      "predict: tensor([[0.0000, 0.8571, 0.0476, 0.0476, 0.0476]])\n",
      "predict: tensor([[0.0000, 0.8636, 0.0455, 0.0455, 0.0455]])\n",
      "predict: tensor([[0.0000, 0.8696, 0.0435, 0.0435, 0.0435]])\n",
      "predict: tensor([[0.0000, 0.8750, 0.0417, 0.0417, 0.0417]])\n",
      "predict: tensor([[0.0000, 0.8800, 0.0400, 0.0400, 0.0400]])\n",
      "predict: tensor([[0.0000, 0.8846, 0.0385, 0.0385, 0.0385]])\n",
      "predict: tensor([[0.0000, 0.8889, 0.0370, 0.0370, 0.0370]])\n",
      "predict: tensor([[0.0000, 0.8929, 0.0357, 0.0357, 0.0357]])\n",
      "predict: tensor([[0.0000, 0.8966, 0.0345, 0.0345, 0.0345]])\n",
      "predict: tensor([[0.0000, 0.9000, 0.0333, 0.0333, 0.0333]])\n",
      "predict: tensor([[0.0000, 0.9032, 0.0323, 0.0323, 0.0323]])\n",
      "predict: tensor([[0.0000, 0.9062, 0.0312, 0.0312, 0.0312]])\n",
      "predict: tensor([[0.0000, 0.9091, 0.0303, 0.0303, 0.0303]])\n",
      "predict: tensor([[0.0000, 0.9118, 0.0294, 0.0294, 0.0294]])\n",
      "predict: tensor([[0.0000, 0.9143, 0.0286, 0.0286, 0.0286]])\n",
      "predict: tensor([[0.0000, 0.9167, 0.0278, 0.0278, 0.0278]])\n",
      "predict: tensor([[0.0000, 0.9189, 0.0270, 0.0270, 0.0270]])\n",
      "predict: tensor([[0.0000, 0.9211, 0.0263, 0.0263, 0.0263]])\n",
      "predict: tensor([[0.0000, 0.9231, 0.0256, 0.0256, 0.0256]])\n",
      "predict: tensor([[0.0000, 0.9250, 0.0250, 0.0250, 0.0250]])\n",
      "predict: tensor([[0.0000, 0.9268, 0.0244, 0.0244, 0.0244]])\n",
      "predict: tensor([[0.0000, 0.9286, 0.0238, 0.0238, 0.0238]])\n",
      "predict: tensor([[0.0000, 0.9302, 0.0233, 0.0233, 0.0233]])\n",
      "predict: tensor([[0.0000, 0.9318, 0.0227, 0.0227, 0.0227]])\n",
      "predict: tensor([[0.0000, 0.9333, 0.0222, 0.0222, 0.0222]])\n",
      "predict: tensor([[0.0000, 0.9348, 0.0217, 0.0217, 0.0217]])\n",
      "predict: tensor([[0.0000, 0.9362, 0.0213, 0.0213, 0.0213]])\n",
      "predict: tensor([[0.0000, 0.9375, 0.0208, 0.0208, 0.0208]])\n",
      "predict: tensor([[0.0000, 0.9388, 0.0204, 0.0204, 0.0204]])\n",
      "predict: tensor([[0.0000, 0.9400, 0.0200, 0.0200, 0.0200]])\n",
      "predict: tensor([[0.0000, 0.9412, 0.0196, 0.0196, 0.0196]])\n",
      "predict: tensor([[0.0000, 0.9423, 0.0192, 0.0192, 0.0192]])\n",
      "predict: tensor([[0.0000, 0.9434, 0.0189, 0.0189, 0.0189]])\n",
      "predict: tensor([[0.0000, 0.9444, 0.0185, 0.0185, 0.0185]])\n",
      "predict: tensor([[0.0000, 0.9455, 0.0182, 0.0182, 0.0182]])\n",
      "predict: tensor([[0.0000, 0.9464, 0.0179, 0.0179, 0.0179]])\n",
      "predict: tensor([[0.0000, 0.9474, 0.0175, 0.0175, 0.0175]])\n",
      "predict: tensor([[0.0000, 0.9483, 0.0172, 0.0172, 0.0172]])\n",
      "predict: tensor([[0.0000, 0.9492, 0.0169, 0.0169, 0.0169]])\n",
      "predict: tensor([[0.0000, 0.9500, 0.0167, 0.0167, 0.0167]])\n",
      "predict: tensor([[0.0000, 0.9508, 0.0164, 0.0164, 0.0164]])\n",
      "predict: tensor([[0.0000, 0.9516, 0.0161, 0.0161, 0.0161]])\n",
      "predict: tensor([[0.0000, 0.9524, 0.0159, 0.0159, 0.0159]])\n",
      "predict: tensor([[0.0000, 0.9531, 0.0156, 0.0156, 0.0156]])\n",
      "predict: tensor([[0.0000, 0.9538, 0.0154, 0.0154, 0.0154]])\n",
      "predict: tensor([[0.0000, 0.9545, 0.0152, 0.0152, 0.0152]])\n",
      "predict: tensor([[0.0000, 0.9552, 0.0149, 0.0149, 0.0149]])\n",
      "predict: tensor([[0.0000, 0.9559, 0.0147, 0.0147, 0.0147]])\n",
      "predict: tensor([[0.0000, 0.9565, 0.0145, 0.0145, 0.0145]])\n",
      "predict: tensor([[0.0000, 0.9571, 0.0143, 0.0143, 0.0143]])\n",
      "predict: tensor([[0.0000, 0.9577, 0.0141, 0.0141, 0.0141]])\n",
      "predict: tensor([[0.0000, 0.9583, 0.0139, 0.0139, 0.0139]])\n",
      "predict: tensor([[0.0000, 0.9589, 0.0137, 0.0137, 0.0137]])\n",
      "predict: tensor([[0.0000, 0.9595, 0.0135, 0.0135, 0.0135]])\n",
      "predict: tensor([[0.0000, 0.9600, 0.0133, 0.0133, 0.0133]])\n",
      "predict: tensor([[0.0000, 0.9605, 0.0132, 0.0132, 0.0132]])\n",
      "predict: tensor([[0.0000, 0.9610, 0.0130, 0.0130, 0.0130]])\n",
      "predict: tensor([[0.0000, 0.9615, 0.0128, 0.0128, 0.0128]])\n",
      "predict: tensor([[0.0000, 0.9620, 0.0127, 0.0127, 0.0127]])\n",
      "predict: tensor([[0.0000, 0.9625, 0.0125, 0.0125, 0.0125]])\n",
      "predict: tensor([[0.0000, 0.9630, 0.0123, 0.0123, 0.0123]])\n",
      "predict: tensor([[0.0000, 0.9634, 0.0122, 0.0122, 0.0122]])\n",
      "predict: tensor([[0.0000, 0.9639, 0.0120, 0.0120, 0.0120]])\n",
      "predict: tensor([[0.0000, 0.9643, 0.0119, 0.0119, 0.0119]])\n",
      "predict: tensor([[0.0000, 0.9647, 0.0118, 0.0118, 0.0118]])\n",
      "predict: tensor([[0.0000, 0.9651, 0.0116, 0.0116, 0.0116]])\n",
      "predict: tensor([[0.0000, 0.9655, 0.0115, 0.0115, 0.0115]])\n",
      "predict: tensor([[0.0000, 0.9659, 0.0114, 0.0114, 0.0114]])\n",
      "predict: tensor([[0.0000, 0.9663, 0.0112, 0.0112, 0.0112]])\n",
      "predict: tensor([[0.0000, 0.9667, 0.0111, 0.0111, 0.0111]])\n",
      "predict: tensor([[0.0000, 0.9670, 0.0110, 0.0110, 0.0110]])\n",
      "predict: tensor([[0.0000, 0.9674, 0.0109, 0.0109, 0.0109]])\n",
      "predict: tensor([[0.0000, 0.9677, 0.0108, 0.0108, 0.0108]])\n",
      "predict: tensor([[0.0000, 0.9681, 0.0106, 0.0106, 0.0106]])\n",
      "predict: tensor([[0.0000, 0.9684, 0.0105, 0.0105, 0.0105]])\n",
      "predict: tensor([[0.0000, 0.9688, 0.0104, 0.0104, 0.0104]])\n",
      "predict: tensor([[0.0000, 0.9691, 0.0103, 0.0103, 0.0103]])\n",
      "predict: tensor([[0.0000, 0.9694, 0.0102, 0.0102, 0.0102]])\n",
      "predict: tensor([[0.0000, 0.9697, 0.0101, 0.0101, 0.0101]])\n",
      "predict: tensor([[0.0000, 0.9700, 0.0100, 0.0100, 0.0100]])\n",
      "predict: tensor([[0.0000, 0.9703, 0.0099, 0.0099, 0.0099]])\n",
      "predict: tensor([[0.0000, 0.9706, 0.0098, 0.0098, 0.0098]])\n"
     ]
    },
    {
     "data": {
      "image/png": "[encoded data removed]",
      "text/plain": [
       "<Figure size 640x480 with 1 Axes>"
      ]
     },
     "metadata": {},
     "output_type": "display_data"
    }
   ],
   "source": [
    "# 测试 label smoothing.(size, padding_idx, smoothing=0.0):\n",
    "crit = LabelSmoothing(5, 0, 0.4)\n",
    "predict = torch.FloatTensor([[0, 0.2, 0.7, 0.1, 0],\n",
    "                             [0, 0.2, 0.7, 0.1, 0],\n",
    "                             [0, 0.2, 0.7, 0.1, 0]])\n",
    "v = crit(Variable(predict.log()), Variable(torch.LongTensor([2, 1, 0])))\n",
    "print(predict.log())\n",
    "print(crit.true_dist)\n",
    "# 显示系统预期的目标分布.\n",
    "plt.imshow(crit.true_dist)\n",
    "plt.show()\n",
    "\n",
    "# 标签平滑实际上开始惩罚模型，如果它对给定的选择非常自信。\n",
    "crit = LabelSmoothing(5, 0, 0.1)\n",
    "def loss(x):\n",
    "    d = x + 3 * 1\n",
    "    predict = torch.FloatTensor([[0, x / d, 1 / d, 1 / d, 1 / d], ])\n",
    "    print(\"predict:\", predict)\n",
    "    return crit(Variable(predict.log()), Variable(torch.LongTensor([1]))).item()\n",
    "plt.plot(np.arange(1, 100), [loss(x) for x in range(1, 100)])\n",
    "plt.show()"
   ]
  },
  {
   "cell_type": "code",
   "execution_count": null,
   "id": "651e7d5f",
   "metadata": {},
   "outputs": [],
   "source": []
  },
  {
   "cell_type": "code",
   "execution_count": null,
   "id": "8fbaa709",
   "metadata": {},
   "outputs": [],
   "source": []
  },
  {
   "cell_type": "code",
   "execution_count": null,
   "id": "0c5e168c",
   "metadata": {},
   "outputs": [],
   "source": []
  },
  {
   "cell_type": "code",
   "execution_count": null,
   "id": "47fff337",
   "metadata": {},
   "outputs": [],
   "source": []
  },
  {
   "cell_type": "code",
   "execution_count": null,
   "id": "4a091ca8",
   "metadata": {},
   "outputs": [],
   "source": []
  },
  {
   "cell_type": "code",
   "execution_count": null,
   "id": "b5776014",
   "metadata": {},
   "outputs": [],
   "source": []
  },
  {
   "cell_type": "code",
   "execution_count": null,
   "id": "18fad40e",
   "metadata": {},
   "outputs": [],
   "source": []
  },
  {
   "cell_type": "code",
   "execution_count": null,
   "id": "a9609954",
   "metadata": {},
   "outputs": [],
   "source": []
  },
  {
   "cell_type": "code",
   "execution_count": null,
   "id": "bfe4b8c3",
   "metadata": {},
   "outputs": [],
   "source": []
  },
  {
   "cell_type": "code",
   "execution_count": null,
   "id": "fd84765c",
   "metadata": {},
   "outputs": [],
   "source": []
  },
  {
   "cell_type": "code",
   "execution_count": null,
   "id": "cddd1989",
   "metadata": {},
   "outputs": [],
   "source": []
  },
  {
   "cell_type": "code",
   "execution_count": null,
   "id": "3cd93e92",
   "metadata": {},
   "outputs": [],
   "source": []
  },
  {
   "cell_type": "code",
   "execution_count": null,
   "id": "1d62642c",
   "metadata": {},
   "outputs": [],
   "source": []
  }
 ],
 "metadata": {
  "kernelspec": {
   "display_name": "nlp_test",
   "language": "python",
   "name": "nlp_test"
  },
  "language_info": {
   "codemirror_mode": {
    "name": "ipython",
    "version": 3
   },
   "file_extension": ".py",
   "mimetype": "text/x-python",
   "name": "python",
   "nbconvert_exporter": "python",
   "pygments_lexer": "ipython3",
   "version": "3.9.18"
  }
 },
 "nbformat": 4,
 "nbformat_minor": 5
}
